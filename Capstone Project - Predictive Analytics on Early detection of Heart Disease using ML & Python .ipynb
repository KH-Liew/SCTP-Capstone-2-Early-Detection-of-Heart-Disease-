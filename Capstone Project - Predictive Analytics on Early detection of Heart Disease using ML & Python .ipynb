{
 "cells": [
  {
   "cell_type": "markdown",
   "id": "d467ccec",
   "metadata": {},
   "source": [
    "## Capstone Project - Predictive Analysis on Early Detection of Heart Disease using Python and Machine Learning "
   ]
  },
  {
   "cell_type": "markdown",
   "id": "7ea03402",
   "metadata": {},
   "source": [
    "Problem Statement\n",
    "\n",
    "Heart disease is a leading cause of mortality worldwide. Early detection and accurate prediction of heart disease can significantlyimprove patient outcomes by enabling timely intervention and preventive measures. The objective of this project is to develop a machine learning model that can effectively predict the presence or absence of heart disease based on various medical and lifestyle factors."
   ]
  },
  {
   "cell_type": "markdown",
   "id": "989030f4",
   "metadata": {},
   "source": [
    "Research Objective:\n",
    "\n",
    "The goal of this project is to build a predictive model that can\n",
    "accurately classify individuals as either having or not having heart\n",
    "disease. By analysing a comprehensive set of patient attributes,\n",
    "including demographic, clinical and lifestyle factors, the model aims to identify patterns and features indicative of the presence or absence of heart disease."
   ]
  },
  {
   "cell_type": "markdown",
   "id": "1e206a1b",
   "metadata": {},
   "source": [
    "Data Information\n",
    "\n",
    "The dataset provided for this project is a subset of clinical data\n",
    "worked on for a project with a healthcare organisation to understand the\n",
    "influence of various factors on the heart disease."
   ]
  },
  {
   "cell_type": "markdown",
   "id": "60893663",
   "metadata": {},
   "source": [
    "About the Data\n",
    "\n",
    "Age | Objective Feature | age | int (days)\n",
    "Height | Objective Feature | height | int (cm) |\n",
    "Weight | Objective Feature | weight | float (kg) |\n",
    "Gender | Objective Feature | gender | 1: Female, 2: Male |\n",
    "Systolic blood pressure | Examination Feature | ap_hi | int |\n",
    "Diastolic blood pressure | Examination Feature | ap_lo | int |\n",
    "Cholesterol | Examination Feature | cholesterol | 1: normal, 2: above normal, 3: well above normal |\n",
    "Glucose | Examination Feature | gluc | 1: normal, 2: above normal, 3: well above normal |\n",
    "Smoking | Subjective Feature | smoke | binary |\n",
    "Alcohol intake | Subjective Feature | alco | binary |\n",
    "Physical activity | Subjective Feature | active | binary |\n",
    "Presence or absence of cardiovascular disease | Target Variable | cardio | binary |\n",
    "All of the dataset values were collected at the moment of medical examination."
   ]
  },
  {
   "cell_type": "markdown",
   "id": "f632bf33",
   "metadata": {},
   "source": [
    "## Loading the required librabries"
   ]
  },
  {
   "cell_type": "code",
   "execution_count": 1,
   "id": "593f162d",
   "metadata": {},
   "outputs": [],
   "source": [
    "# Importing the initial required libraries\n",
    "import pandas as pd\n",
    "import numpy as np\n",
    "import matplotlib.pyplot as plt\n",
    "import seaborn as sns\n",
    "\n",
    "# To ignore the warnings that may appear\n",
    "import warnings\n",
    "warnings.filterwarnings(\"ignore\")\n",
    "\n",
    "# Importing the sklearn modules to be used\n",
    "from sklearn.model_selection import train_test_split #to split the dataset for training and testing\n",
    "from sklearn import metrics #for checking the model accuracy\n",
    "\n",
    "# We will import the ML classification algorithms when required in this notebook."
   ]
  },
  {
   "cell_type": "markdown",
   "id": "18fdba2c",
   "metadata": {},
   "source": [
    "## Import the Data"
   ]
  },
  {
   "cell_type": "code",
   "execution_count": 2,
   "id": "81743fdc",
   "metadata": {},
   "outputs": [
    {
     "data": {
      "text/html": [
       "<div>\n",
       "<style scoped>\n",
       "    .dataframe tbody tr th:only-of-type {\n",
       "        vertical-align: middle;\n",
       "    }\n",
       "\n",
       "    .dataframe tbody tr th {\n",
       "        vertical-align: top;\n",
       "    }\n",
       "\n",
       "    .dataframe thead th {\n",
       "        text-align: right;\n",
       "    }\n",
       "</style>\n",
       "<table border=\"1\" class=\"dataframe\">\n",
       "  <thead>\n",
       "    <tr style=\"text-align: right;\">\n",
       "      <th></th>\n",
       "      <th>date</th>\n",
       "      <th>country</th>\n",
       "      <th>id</th>\n",
       "      <th>active</th>\n",
       "      <th>age</th>\n",
       "      <th>alco</th>\n",
       "      <th>ap_hi</th>\n",
       "      <th>ap_lo</th>\n",
       "      <th>cholesterol</th>\n",
       "      <th>gender</th>\n",
       "      <th>gluc</th>\n",
       "      <th>height</th>\n",
       "      <th>occupation</th>\n",
       "      <th>smoke</th>\n",
       "      <th>weight</th>\n",
       "      <th>disease</th>\n",
       "    </tr>\n",
       "  </thead>\n",
       "  <tbody>\n",
       "    <tr>\n",
       "      <th>0</th>\n",
       "      <td>3/5/2021</td>\n",
       "      <td>Indonesia</td>\n",
       "      <td>0</td>\n",
       "      <td>1</td>\n",
       "      <td>18393</td>\n",
       "      <td>0</td>\n",
       "      <td>110</td>\n",
       "      <td>80</td>\n",
       "      <td>1</td>\n",
       "      <td>2</td>\n",
       "      <td>1</td>\n",
       "      <td>168</td>\n",
       "      <td>Architect</td>\n",
       "      <td>0</td>\n",
       "      <td>62.0</td>\n",
       "      <td>0</td>\n",
       "    </tr>\n",
       "    <tr>\n",
       "      <th>1</th>\n",
       "      <td>5/8/2021</td>\n",
       "      <td>Malaysia</td>\n",
       "      <td>1</td>\n",
       "      <td>1</td>\n",
       "      <td>20228</td>\n",
       "      <td>0</td>\n",
       "      <td>140</td>\n",
       "      <td>90</td>\n",
       "      <td>3</td>\n",
       "      <td>1</td>\n",
       "      <td>1</td>\n",
       "      <td>156</td>\n",
       "      <td>Accountant</td>\n",
       "      <td>0</td>\n",
       "      <td>85.0</td>\n",
       "      <td>1</td>\n",
       "    </tr>\n",
       "    <tr>\n",
       "      <th>2</th>\n",
       "      <td>13/11/2022</td>\n",
       "      <td>Indonesia</td>\n",
       "      <td>2</td>\n",
       "      <td>0</td>\n",
       "      <td>18857</td>\n",
       "      <td>0</td>\n",
       "      <td>130</td>\n",
       "      <td>70</td>\n",
       "      <td>3</td>\n",
       "      <td>1</td>\n",
       "      <td>1</td>\n",
       "      <td>165</td>\n",
       "      <td>Chef</td>\n",
       "      <td>0</td>\n",
       "      <td>64.0</td>\n",
       "      <td>1</td>\n",
       "    </tr>\n",
       "    <tr>\n",
       "      <th>3</th>\n",
       "      <td>31/10/2018</td>\n",
       "      <td>Singapore</td>\n",
       "      <td>3</td>\n",
       "      <td>1</td>\n",
       "      <td>17623</td>\n",
       "      <td>0</td>\n",
       "      <td>150</td>\n",
       "      <td>100</td>\n",
       "      <td>1</td>\n",
       "      <td>2</td>\n",
       "      <td>1</td>\n",
       "      <td>169</td>\n",
       "      <td>Lawyer</td>\n",
       "      <td>0</td>\n",
       "      <td>82.0</td>\n",
       "      <td>1</td>\n",
       "    </tr>\n",
       "    <tr>\n",
       "      <th>4</th>\n",
       "      <td>25/9/2020</td>\n",
       "      <td>Singapore</td>\n",
       "      <td>4</td>\n",
       "      <td>0</td>\n",
       "      <td>17474</td>\n",
       "      <td>0</td>\n",
       "      <td>100</td>\n",
       "      <td>60</td>\n",
       "      <td>1</td>\n",
       "      <td>1</td>\n",
       "      <td>1</td>\n",
       "      <td>156</td>\n",
       "      <td>Architect</td>\n",
       "      <td>0</td>\n",
       "      <td>56.0</td>\n",
       "      <td>0</td>\n",
       "    </tr>\n",
       "  </tbody>\n",
       "</table>\n",
       "</div>"
      ],
      "text/plain": [
       "         date    country  id  active    age  alco  ap_hi  ap_lo  cholesterol  \\\n",
       "0    3/5/2021  Indonesia   0       1  18393     0    110     80            1   \n",
       "1    5/8/2021   Malaysia   1       1  20228     0    140     90            3   \n",
       "2  13/11/2022  Indonesia   2       0  18857     0    130     70            3   \n",
       "3  31/10/2018  Singapore   3       1  17623     0    150    100            1   \n",
       "4   25/9/2020  Singapore   4       0  17474     0    100     60            1   \n",
       "\n",
       "   gender  gluc  height  occupation  smoke  weight  disease  \n",
       "0       2     1     168   Architect      0    62.0        0  \n",
       "1       1     1     156  Accountant      0    85.0        1  \n",
       "2       1     1     165        Chef      0    64.0        1  \n",
       "3       2     1     169      Lawyer      0    82.0        1  \n",
       "4       1     1     156   Architect      0    56.0        0  "
      ]
     },
     "execution_count": 2,
     "metadata": {},
     "output_type": "execute_result"
    }
   ],
   "source": [
    "# Load in the data\n",
    "df = pd.read_csv('cardio_data.csv')\n",
    "df.head()"
   ]
  },
  {
   "cell_type": "code",
   "execution_count": 3,
   "id": "3727ec89",
   "metadata": {},
   "outputs": [
    {
     "name": "stdout",
     "output_type": "stream",
     "text": [
      "<class 'pandas.core.frame.DataFrame'>\n",
      "RangeIndex: 70000 entries, 0 to 69999\n",
      "Data columns (total 16 columns):\n",
      " #   Column       Non-Null Count  Dtype  \n",
      "---  ------       --------------  -----  \n",
      " 0   date         70000 non-null  object \n",
      " 1   country      70000 non-null  object \n",
      " 2   id           70000 non-null  int64  \n",
      " 3   active       70000 non-null  int64  \n",
      " 4   age          70000 non-null  int64  \n",
      " 5   alco         70000 non-null  int64  \n",
      " 6   ap_hi        70000 non-null  int64  \n",
      " 7   ap_lo        70000 non-null  int64  \n",
      " 8   cholesterol  70000 non-null  int64  \n",
      " 9   gender       70000 non-null  int64  \n",
      " 10  gluc         70000 non-null  int64  \n",
      " 11  height       70000 non-null  int64  \n",
      " 12  occupation   70000 non-null  object \n",
      " 13  smoke        70000 non-null  int64  \n",
      " 14  weight       70000 non-null  float64\n",
      " 15  disease      70000 non-null  int64  \n",
      "dtypes: float64(1), int64(12), object(3)\n",
      "memory usage: 8.5+ MB\n"
     ]
    }
   ],
   "source": [
    "df.info()"
   ]
  },
  {
   "cell_type": "markdown",
   "id": "9dfff18e",
   "metadata": {},
   "source": [
    "## Data Exploration & Cleaning"
   ]
  },
  {
   "cell_type": "markdown",
   "id": "f1cbf03e",
   "metadata": {},
   "source": [
    "Remove duplicate data"
   ]
  },
  {
   "cell_type": "code",
   "execution_count": 4,
   "id": "d597c1ec",
   "metadata": {},
   "outputs": [
    {
     "name": "stdout",
     "output_type": "stream",
     "text": [
      "(70000, 16)\n"
     ]
    }
   ],
   "source": [
    "df = df.drop_duplicates()       #no duplicates record\n",
    "print(df.shape )"
   ]
  },
  {
   "cell_type": "markdown",
   "id": "9e520971",
   "metadata": {},
   "source": [
    "Check for empty data cells, remove rows (if any)."
   ]
  },
  {
   "cell_type": "code",
   "execution_count": 5,
   "id": "388ef4fe",
   "metadata": {},
   "outputs": [
    {
     "name": "stdout",
     "output_type": "stream",
     "text": [
      "date           0\n",
      "country        0\n",
      "id             0\n",
      "active         0\n",
      "age            0\n",
      "alco           0\n",
      "ap_hi          0\n",
      "ap_lo          0\n",
      "cholesterol    0\n",
      "gender         0\n",
      "gluc           0\n",
      "height         0\n",
      "occupation     0\n",
      "smoke          0\n",
      "weight         0\n",
      "disease        0\n",
      "dtype: int64\n"
     ]
    }
   ],
   "source": [
    "print(df.isnull().sum())"
   ]
  },
  {
   "cell_type": "markdown",
   "id": "183b636f",
   "metadata": {},
   "source": [
    "change column 'age' data from days to years"
   ]
  },
  {
   "cell_type": "code",
   "execution_count": 6,
   "id": "9549df1d",
   "metadata": {},
   "outputs": [],
   "source": [
    "# Convert the 'age' column from days to years as int\n",
    "\n",
    "df['age'] = (df['age'] / 365).astype(int)\n"
   ]
  },
  {
   "cell_type": "code",
   "execution_count": 7,
   "id": "8914dae5",
   "metadata": {},
   "outputs": [],
   "source": [
    "# Convert the 'weight' column as int\n",
    "\n",
    "df['weight'] = (df['weight']).astype(int)"
   ]
  },
  {
   "cell_type": "code",
   "execution_count": 8,
   "id": "d81f27bd",
   "metadata": {},
   "outputs": [
    {
     "data": {
      "text/html": [
       "<div>\n",
       "<style scoped>\n",
       "    .dataframe tbody tr th:only-of-type {\n",
       "        vertical-align: middle;\n",
       "    }\n",
       "\n",
       "    .dataframe tbody tr th {\n",
       "        vertical-align: top;\n",
       "    }\n",
       "\n",
       "    .dataframe thead th {\n",
       "        text-align: right;\n",
       "    }\n",
       "</style>\n",
       "<table border=\"1\" class=\"dataframe\">\n",
       "  <thead>\n",
       "    <tr style=\"text-align: right;\">\n",
       "      <th></th>\n",
       "      <th>date</th>\n",
       "      <th>country</th>\n",
       "      <th>id</th>\n",
       "      <th>active</th>\n",
       "      <th>age</th>\n",
       "      <th>alco</th>\n",
       "      <th>ap_hi</th>\n",
       "      <th>ap_lo</th>\n",
       "      <th>cholesterol</th>\n",
       "      <th>gender</th>\n",
       "      <th>gluc</th>\n",
       "      <th>height</th>\n",
       "      <th>occupation</th>\n",
       "      <th>smoke</th>\n",
       "      <th>weight</th>\n",
       "      <th>disease</th>\n",
       "    </tr>\n",
       "  </thead>\n",
       "  <tbody>\n",
       "    <tr>\n",
       "      <th>43762</th>\n",
       "      <td>21/12/2021</td>\n",
       "      <td>Malaysia</td>\n",
       "      <td>62532</td>\n",
       "      <td>1</td>\n",
       "      <td>55</td>\n",
       "      <td>0</td>\n",
       "      <td>150</td>\n",
       "      <td>90</td>\n",
       "      <td>1</td>\n",
       "      <td>1</td>\n",
       "      <td>1</td>\n",
       "      <td>165</td>\n",
       "      <td>Architect</td>\n",
       "      <td>0</td>\n",
       "      <td>68</td>\n",
       "      <td>1</td>\n",
       "    </tr>\n",
       "    <tr>\n",
       "      <th>58559</th>\n",
       "      <td>19/10/2021</td>\n",
       "      <td>Indonesia</td>\n",
       "      <td>83563</td>\n",
       "      <td>1</td>\n",
       "      <td>52</td>\n",
       "      <td>1</td>\n",
       "      <td>120</td>\n",
       "      <td>80</td>\n",
       "      <td>1</td>\n",
       "      <td>2</td>\n",
       "      <td>3</td>\n",
       "      <td>175</td>\n",
       "      <td>Teacher</td>\n",
       "      <td>0</td>\n",
       "      <td>81</td>\n",
       "      <td>1</td>\n",
       "    </tr>\n",
       "    <tr>\n",
       "      <th>32588</th>\n",
       "      <td>27/6/2021</td>\n",
       "      <td>Malaysia</td>\n",
       "      <td>46535</td>\n",
       "      <td>1</td>\n",
       "      <td>41</td>\n",
       "      <td>0</td>\n",
       "      <td>120</td>\n",
       "      <td>80</td>\n",
       "      <td>1</td>\n",
       "      <td>1</td>\n",
       "      <td>1</td>\n",
       "      <td>160</td>\n",
       "      <td>Others</td>\n",
       "      <td>0</td>\n",
       "      <td>99</td>\n",
       "      <td>1</td>\n",
       "    </tr>\n",
       "    <tr>\n",
       "      <th>4708</th>\n",
       "      <td>26/10/2020</td>\n",
       "      <td>Indonesia</td>\n",
       "      <td>6668</td>\n",
       "      <td>1</td>\n",
       "      <td>63</td>\n",
       "      <td>0</td>\n",
       "      <td>120</td>\n",
       "      <td>80</td>\n",
       "      <td>1</td>\n",
       "      <td>1</td>\n",
       "      <td>1</td>\n",
       "      <td>162</td>\n",
       "      <td>Doctor</td>\n",
       "      <td>0</td>\n",
       "      <td>65</td>\n",
       "      <td>0</td>\n",
       "    </tr>\n",
       "    <tr>\n",
       "      <th>4152</th>\n",
       "      <td>14/2/2018</td>\n",
       "      <td>India</td>\n",
       "      <td>5869</td>\n",
       "      <td>1</td>\n",
       "      <td>60</td>\n",
       "      <td>0</td>\n",
       "      <td>120</td>\n",
       "      <td>80</td>\n",
       "      <td>1</td>\n",
       "      <td>1</td>\n",
       "      <td>1</td>\n",
       "      <td>164</td>\n",
       "      <td>Nurse</td>\n",
       "      <td>0</td>\n",
       "      <td>68</td>\n",
       "      <td>0</td>\n",
       "    </tr>\n",
       "  </tbody>\n",
       "</table>\n",
       "</div>"
      ],
      "text/plain": [
       "             date    country     id  active  age  alco  ap_hi  ap_lo  \\\n",
       "43762  21/12/2021   Malaysia  62532       1   55     0    150     90   \n",
       "58559  19/10/2021  Indonesia  83563       1   52     1    120     80   \n",
       "32588   27/6/2021   Malaysia  46535       1   41     0    120     80   \n",
       "4708   26/10/2020  Indonesia   6668       1   63     0    120     80   \n",
       "4152    14/2/2018      India   5869       1   60     0    120     80   \n",
       "\n",
       "       cholesterol  gender  gluc  height occupation  smoke  weight  disease  \n",
       "43762            1       1     1     165  Architect      0      68        1  \n",
       "58559            1       2     3     175    Teacher      0      81        1  \n",
       "32588            1       1     1     160     Others      0      99        1  \n",
       "4708             1       1     1     162     Doctor      0      65        0  \n",
       "4152             1       1     1     164      Nurse      0      68        0  "
      ]
     },
     "execution_count": 8,
     "metadata": {},
     "output_type": "execute_result"
    }
   ],
   "source": [
    "df.sample(5)"
   ]
  },
  {
   "cell_type": "markdown",
   "id": "4ef3dcdb",
   "metadata": {},
   "source": [
    "check data set after cleaning"
   ]
  },
  {
   "cell_type": "code",
   "execution_count": 9,
   "id": "d7a72a2e",
   "metadata": {},
   "outputs": [
    {
     "name": "stdout",
     "output_type": "stream",
     "text": [
      "<class 'pandas.core.frame.DataFrame'>\n",
      "RangeIndex: 70000 entries, 0 to 69999\n",
      "Data columns (total 16 columns):\n",
      " #   Column       Non-Null Count  Dtype \n",
      "---  ------       --------------  ----- \n",
      " 0   date         70000 non-null  object\n",
      " 1   country      70000 non-null  object\n",
      " 2   id           70000 non-null  int64 \n",
      " 3   active       70000 non-null  int64 \n",
      " 4   age          70000 non-null  int32 \n",
      " 5   alco         70000 non-null  int64 \n",
      " 6   ap_hi        70000 non-null  int64 \n",
      " 7   ap_lo        70000 non-null  int64 \n",
      " 8   cholesterol  70000 non-null  int64 \n",
      " 9   gender       70000 non-null  int64 \n",
      " 10  gluc         70000 non-null  int64 \n",
      " 11  height       70000 non-null  int64 \n",
      " 12  occupation   70000 non-null  object\n",
      " 13  smoke        70000 non-null  int64 \n",
      " 14  weight       70000 non-null  int32 \n",
      " 15  disease      70000 non-null  int64 \n",
      "dtypes: int32(2), int64(11), object(3)\n",
      "memory usage: 8.0+ MB\n",
      "\n",
      "\n",
      "Total Positive records: 34979\n",
      "Total Negative records: 35021\n"
     ]
    },
    {
     "data": {
      "text/html": [
       "<div>\n",
       "<style scoped>\n",
       "    .dataframe tbody tr th:only-of-type {\n",
       "        vertical-align: middle;\n",
       "    }\n",
       "\n",
       "    .dataframe tbody tr th {\n",
       "        vertical-align: top;\n",
       "    }\n",
       "\n",
       "    .dataframe thead th {\n",
       "        text-align: right;\n",
       "    }\n",
       "</style>\n",
       "<table border=\"1\" class=\"dataframe\">\n",
       "  <thead>\n",
       "    <tr style=\"text-align: right;\">\n",
       "      <th></th>\n",
       "      <th>date</th>\n",
       "      <th>country</th>\n",
       "      <th>id</th>\n",
       "      <th>active</th>\n",
       "      <th>age</th>\n",
       "      <th>alco</th>\n",
       "      <th>ap_hi</th>\n",
       "      <th>ap_lo</th>\n",
       "      <th>cholesterol</th>\n",
       "      <th>gender</th>\n",
       "      <th>gluc</th>\n",
       "      <th>height</th>\n",
       "      <th>occupation</th>\n",
       "      <th>smoke</th>\n",
       "      <th>weight</th>\n",
       "      <th>disease</th>\n",
       "    </tr>\n",
       "  </thead>\n",
       "  <tbody>\n",
       "    <tr>\n",
       "      <th>67709</th>\n",
       "      <td>18/8/2018</td>\n",
       "      <td>Singapore</td>\n",
       "      <td>96685</td>\n",
       "      <td>1</td>\n",
       "      <td>43</td>\n",
       "      <td>0</td>\n",
       "      <td>110</td>\n",
       "      <td>80</td>\n",
       "      <td>1</td>\n",
       "      <td>2</td>\n",
       "      <td>1</td>\n",
       "      <td>172</td>\n",
       "      <td>Teacher</td>\n",
       "      <td>0</td>\n",
       "      <td>95</td>\n",
       "      <td>0</td>\n",
       "    </tr>\n",
       "    <tr>\n",
       "      <th>53322</th>\n",
       "      <td>18/3/2021</td>\n",
       "      <td>Indonesia</td>\n",
       "      <td>76085</td>\n",
       "      <td>0</td>\n",
       "      <td>47</td>\n",
       "      <td>0</td>\n",
       "      <td>120</td>\n",
       "      <td>70</td>\n",
       "      <td>1</td>\n",
       "      <td>1</td>\n",
       "      <td>1</td>\n",
       "      <td>160</td>\n",
       "      <td>Others</td>\n",
       "      <td>0</td>\n",
       "      <td>68</td>\n",
       "      <td>0</td>\n",
       "    </tr>\n",
       "    <tr>\n",
       "      <th>9586</th>\n",
       "      <td>14/1/2019</td>\n",
       "      <td>India</td>\n",
       "      <td>13665</td>\n",
       "      <td>1</td>\n",
       "      <td>54</td>\n",
       "      <td>0</td>\n",
       "      <td>120</td>\n",
       "      <td>80</td>\n",
       "      <td>2</td>\n",
       "      <td>1</td>\n",
       "      <td>1</td>\n",
       "      <td>165</td>\n",
       "      <td>Accountant</td>\n",
       "      <td>0</td>\n",
       "      <td>79</td>\n",
       "      <td>1</td>\n",
       "    </tr>\n",
       "    <tr>\n",
       "      <th>43643</th>\n",
       "      <td>14/1/2021</td>\n",
       "      <td>India</td>\n",
       "      <td>62357</td>\n",
       "      <td>0</td>\n",
       "      <td>58</td>\n",
       "      <td>0</td>\n",
       "      <td>140</td>\n",
       "      <td>90</td>\n",
       "      <td>1</td>\n",
       "      <td>1</td>\n",
       "      <td>1</td>\n",
       "      <td>165</td>\n",
       "      <td>Engineer</td>\n",
       "      <td>0</td>\n",
       "      <td>71</td>\n",
       "      <td>1</td>\n",
       "    </tr>\n",
       "    <tr>\n",
       "      <th>63070</th>\n",
       "      <td>9/9/2020</td>\n",
       "      <td>Singapore</td>\n",
       "      <td>90063</td>\n",
       "      <td>1</td>\n",
       "      <td>52</td>\n",
       "      <td>0</td>\n",
       "      <td>110</td>\n",
       "      <td>80</td>\n",
       "      <td>2</td>\n",
       "      <td>1</td>\n",
       "      <td>1</td>\n",
       "      <td>160</td>\n",
       "      <td>Architect</td>\n",
       "      <td>0</td>\n",
       "      <td>70</td>\n",
       "      <td>0</td>\n",
       "    </tr>\n",
       "  </tbody>\n",
       "</table>\n",
       "</div>"
      ],
      "text/plain": [
       "            date    country     id  active  age  alco  ap_hi  ap_lo  \\\n",
       "67709  18/8/2018  Singapore  96685       1   43     0    110     80   \n",
       "53322  18/3/2021  Indonesia  76085       0   47     0    120     70   \n",
       "9586   14/1/2019      India  13665       1   54     0    120     80   \n",
       "43643  14/1/2021      India  62357       0   58     0    140     90   \n",
       "63070   9/9/2020  Singapore  90063       1   52     0    110     80   \n",
       "\n",
       "       cholesterol  gender  gluc  height  occupation  smoke  weight  disease  \n",
       "67709            1       2     1     172     Teacher      0      95        0  \n",
       "53322            1       1     1     160      Others      0      68        0  \n",
       "9586             2       1     1     165  Accountant      0      79        1  \n",
       "43643            1       1     1     165    Engineer      0      71        1  \n",
       "63070            2       1     1     160   Architect      0      70        0  "
      ]
     },
     "execution_count": 9,
     "metadata": {},
     "output_type": "execute_result"
    }
   ],
   "source": [
    "df.info()\n",
    "print(\"\\n\")\n",
    "\n",
    "#Determine the disease and healthy split\n",
    "print(\"Total Positive records:\", df['disease'].value_counts().iloc[1])\n",
    "print(\"Total Negative records:\", df['disease'].value_counts().iloc[0])\n",
    "df.sample(5)"
   ]
  },
  {
   "cell_type": "code",
   "execution_count": 10,
   "id": "7e76484b",
   "metadata": {},
   "outputs": [
    {
     "data": {
      "text/html": [
       "<div>\n",
       "<style scoped>\n",
       "    .dataframe tbody tr th:only-of-type {\n",
       "        vertical-align: middle;\n",
       "    }\n",
       "\n",
       "    .dataframe tbody tr th {\n",
       "        vertical-align: top;\n",
       "    }\n",
       "\n",
       "    .dataframe thead th {\n",
       "        text-align: right;\n",
       "    }\n",
       "</style>\n",
       "<table border=\"1\" class=\"dataframe\">\n",
       "  <thead>\n",
       "    <tr style=\"text-align: right;\">\n",
       "      <th></th>\n",
       "      <th>id</th>\n",
       "      <th>active</th>\n",
       "      <th>age</th>\n",
       "      <th>alco</th>\n",
       "      <th>ap_hi</th>\n",
       "      <th>ap_lo</th>\n",
       "      <th>cholesterol</th>\n",
       "      <th>gender</th>\n",
       "      <th>gluc</th>\n",
       "      <th>height</th>\n",
       "      <th>smoke</th>\n",
       "      <th>weight</th>\n",
       "      <th>disease</th>\n",
       "    </tr>\n",
       "  </thead>\n",
       "  <tbody>\n",
       "    <tr>\n",
       "      <th>count</th>\n",
       "      <td>70000.000000</td>\n",
       "      <td>70000.000000</td>\n",
       "      <td>70000.000000</td>\n",
       "      <td>70000.000000</td>\n",
       "      <td>70000.000000</td>\n",
       "      <td>70000.000000</td>\n",
       "      <td>70000.000000</td>\n",
       "      <td>70000.000000</td>\n",
       "      <td>70000.000000</td>\n",
       "      <td>70000.000000</td>\n",
       "      <td>70000.000000</td>\n",
       "      <td>70000.000000</td>\n",
       "      <td>70000.000000</td>\n",
       "    </tr>\n",
       "    <tr>\n",
       "      <th>mean</th>\n",
       "      <td>49972.419900</td>\n",
       "      <td>0.803729</td>\n",
       "      <td>52.840671</td>\n",
       "      <td>0.053771</td>\n",
       "      <td>128.817286</td>\n",
       "      <td>96.630414</td>\n",
       "      <td>1.366871</td>\n",
       "      <td>1.349571</td>\n",
       "      <td>1.226457</td>\n",
       "      <td>164.359229</td>\n",
       "      <td>0.088129</td>\n",
       "      <td>74.204329</td>\n",
       "      <td>0.499700</td>\n",
       "    </tr>\n",
       "    <tr>\n",
       "      <th>std</th>\n",
       "      <td>28851.302323</td>\n",
       "      <td>0.397179</td>\n",
       "      <td>6.766774</td>\n",
       "      <td>0.225568</td>\n",
       "      <td>154.011419</td>\n",
       "      <td>188.472530</td>\n",
       "      <td>0.680250</td>\n",
       "      <td>0.476838</td>\n",
       "      <td>0.572270</td>\n",
       "      <td>8.210126</td>\n",
       "      <td>0.283484</td>\n",
       "      <td>14.395953</td>\n",
       "      <td>0.500003</td>\n",
       "    </tr>\n",
       "    <tr>\n",
       "      <th>min</th>\n",
       "      <td>0.000000</td>\n",
       "      <td>0.000000</td>\n",
       "      <td>29.000000</td>\n",
       "      <td>0.000000</td>\n",
       "      <td>-150.000000</td>\n",
       "      <td>-70.000000</td>\n",
       "      <td>1.000000</td>\n",
       "      <td>1.000000</td>\n",
       "      <td>1.000000</td>\n",
       "      <td>55.000000</td>\n",
       "      <td>0.000000</td>\n",
       "      <td>10.000000</td>\n",
       "      <td>0.000000</td>\n",
       "    </tr>\n",
       "    <tr>\n",
       "      <th>25%</th>\n",
       "      <td>25006.750000</td>\n",
       "      <td>1.000000</td>\n",
       "      <td>48.000000</td>\n",
       "      <td>0.000000</td>\n",
       "      <td>120.000000</td>\n",
       "      <td>80.000000</td>\n",
       "      <td>1.000000</td>\n",
       "      <td>1.000000</td>\n",
       "      <td>1.000000</td>\n",
       "      <td>159.000000</td>\n",
       "      <td>0.000000</td>\n",
       "      <td>65.000000</td>\n",
       "      <td>0.000000</td>\n",
       "    </tr>\n",
       "    <tr>\n",
       "      <th>50%</th>\n",
       "      <td>50001.500000</td>\n",
       "      <td>1.000000</td>\n",
       "      <td>53.000000</td>\n",
       "      <td>0.000000</td>\n",
       "      <td>120.000000</td>\n",
       "      <td>80.000000</td>\n",
       "      <td>1.000000</td>\n",
       "      <td>1.000000</td>\n",
       "      <td>1.000000</td>\n",
       "      <td>165.000000</td>\n",
       "      <td>0.000000</td>\n",
       "      <td>72.000000</td>\n",
       "      <td>0.000000</td>\n",
       "    </tr>\n",
       "    <tr>\n",
       "      <th>75%</th>\n",
       "      <td>74889.250000</td>\n",
       "      <td>1.000000</td>\n",
       "      <td>58.000000</td>\n",
       "      <td>0.000000</td>\n",
       "      <td>140.000000</td>\n",
       "      <td>90.000000</td>\n",
       "      <td>2.000000</td>\n",
       "      <td>2.000000</td>\n",
       "      <td>1.000000</td>\n",
       "      <td>170.000000</td>\n",
       "      <td>0.000000</td>\n",
       "      <td>82.000000</td>\n",
       "      <td>1.000000</td>\n",
       "    </tr>\n",
       "    <tr>\n",
       "      <th>max</th>\n",
       "      <td>99999.000000</td>\n",
       "      <td>1.000000</td>\n",
       "      <td>64.000000</td>\n",
       "      <td>1.000000</td>\n",
       "      <td>16020.000000</td>\n",
       "      <td>11000.000000</td>\n",
       "      <td>3.000000</td>\n",
       "      <td>2.000000</td>\n",
       "      <td>3.000000</td>\n",
       "      <td>250.000000</td>\n",
       "      <td>1.000000</td>\n",
       "      <td>200.000000</td>\n",
       "      <td>1.000000</td>\n",
       "    </tr>\n",
       "  </tbody>\n",
       "</table>\n",
       "</div>"
      ],
      "text/plain": [
       "                 id        active           age          alco         ap_hi  \\\n",
       "count  70000.000000  70000.000000  70000.000000  70000.000000  70000.000000   \n",
       "mean   49972.419900      0.803729     52.840671      0.053771    128.817286   \n",
       "std    28851.302323      0.397179      6.766774      0.225568    154.011419   \n",
       "min        0.000000      0.000000     29.000000      0.000000   -150.000000   \n",
       "25%    25006.750000      1.000000     48.000000      0.000000    120.000000   \n",
       "50%    50001.500000      1.000000     53.000000      0.000000    120.000000   \n",
       "75%    74889.250000      1.000000     58.000000      0.000000    140.000000   \n",
       "max    99999.000000      1.000000     64.000000      1.000000  16020.000000   \n",
       "\n",
       "              ap_lo   cholesterol        gender          gluc        height  \\\n",
       "count  70000.000000  70000.000000  70000.000000  70000.000000  70000.000000   \n",
       "mean      96.630414      1.366871      1.349571      1.226457    164.359229   \n",
       "std      188.472530      0.680250      0.476838      0.572270      8.210126   \n",
       "min      -70.000000      1.000000      1.000000      1.000000     55.000000   \n",
       "25%       80.000000      1.000000      1.000000      1.000000    159.000000   \n",
       "50%       80.000000      1.000000      1.000000      1.000000    165.000000   \n",
       "75%       90.000000      2.000000      2.000000      1.000000    170.000000   \n",
       "max    11000.000000      3.000000      2.000000      3.000000    250.000000   \n",
       "\n",
       "              smoke        weight       disease  \n",
       "count  70000.000000  70000.000000  70000.000000  \n",
       "mean       0.088129     74.204329      0.499700  \n",
       "std        0.283484     14.395953      0.500003  \n",
       "min        0.000000     10.000000      0.000000  \n",
       "25%        0.000000     65.000000      0.000000  \n",
       "50%        0.000000     72.000000      0.000000  \n",
       "75%        0.000000     82.000000      1.000000  \n",
       "max        1.000000    200.000000      1.000000  "
      ]
     },
     "execution_count": 10,
     "metadata": {},
     "output_type": "execute_result"
    }
   ],
   "source": [
    "df.describe()"
   ]
  },
  {
   "cell_type": "markdown",
   "id": "c3c2db15",
   "metadata": {},
   "source": [
    "Observations from basic exploration:\n",
    "\n",
    "There are total 70000 records/rows and 16 columns in the dataset.\n",
    "All independent variables have int values.\n",
    "The disease column which is the target, has Total Positive records: 34979, Total Negative records: 35021\n",
    "There is no missing value in any row/column. Hence, no need to treat the missing values."
   ]
  },
  {
   "cell_type": "markdown",
   "id": "e965d58c",
   "metadata": {},
   "source": [
    "## Visual analysis (EDA - Exploratory Data Analysis)"
   ]
  },
  {
   "cell_type": "code",
   "execution_count": 11,
   "id": "859c7c9d",
   "metadata": {},
   "outputs": [
    {
     "name": "stdout",
     "output_type": "stream",
     "text": [
      "<class 'pandas.core.frame.DataFrame'>\n",
      "RangeIndex: 70000 entries, 0 to 69999\n",
      "Data columns (total 13 columns):\n",
      " #   Column       Non-Null Count  Dtype\n",
      "---  ------       --------------  -----\n",
      " 0   active       70000 non-null  int64\n",
      " 1   age          70000 non-null  int32\n",
      " 2   alco         70000 non-null  int64\n",
      " 3   ap_hi        70000 non-null  int64\n",
      " 4   ap_lo        70000 non-null  int64\n",
      " 5   cholesterol  70000 non-null  int64\n",
      " 6   gender       70000 non-null  int64\n",
      " 7   gluc         70000 non-null  int64\n",
      " 8   height       70000 non-null  int64\n",
      " 9   smoke        70000 non-null  int64\n",
      " 10  weight       70000 non-null  int32\n",
      " 11  disease      70000 non-null  int64\n",
      " 12  bmi          70000 non-null  int32\n",
      "dtypes: int32(3), int64(10)\n",
      "memory usage: 6.1 MB\n"
     ]
    },
    {
     "data": {
      "text/plain": [
       "70000"
      ]
     },
     "execution_count": 11,
     "metadata": {},
     "output_type": "execute_result"
    }
   ],
   "source": [
    "#data transformation, removing outliers, and other findings\n",
    "\n",
    "df['disease'].value_counts(normalize=True) #to balance the target variable\n",
    "\n",
    "df['bmi'] = df['weight'] / (df['height']/100)**2 #include the BMI variable\n",
    "df['bmi'] = (df['bmi']).astype(int)\n",
    "\n",
    "df.drop('id', axis=1, inplace=True) #id column is not vital for modeling\n",
    "df.drop('date', axis=1, inplace=True) #date column is not vital for modeling\n",
    "df.drop('country', axis=1, inplace=True) #country column is not vital for modeling\n",
    "df.drop('occupation', axis=1, inplace=True) #occupation column is not vital for modeling\n",
    "\n",
    "df.describe()\n",
    "df.info()\n",
    "len(df)\n"
   ]
  },
  {
   "cell_type": "code",
   "execution_count": 12,
   "id": "d5946bd8",
   "metadata": {},
   "outputs": [
    {
     "data": {
      "text/plain": [
       "60144"
      ]
     },
     "execution_count": 12,
     "metadata": {},
     "output_type": "execute_result"
    }
   ],
   "source": [
    "#Check and address any Outliers\n",
    "\n",
    "df.drop(df[(df['height'] > df['height'].quantile(0.975)) | (df['height'] < df['height'].quantile(0.025))].index,inplace=True) #remove outliers => remove heights that fall below 2.5% or above 97.5% of a given range\n",
    "df.drop(df[(df['weight'] > df['weight'].quantile(0.975)) | (df['weight'] < df['weight'].quantile(0.025))].index,inplace=True) #remove outliers => remove weights that fall below 2.5% or above 97.5% of a given range\n",
    "df.drop(df[(df['ap_hi'] > df['ap_hi'].quantile(0.975)) | (df['ap_hi'] < df['ap_hi'].quantile(0.025))].index,inplace=True) #remove outliers => remove systolic blood pressure values that fall below 2.5% or above 97.5% of a given range\n",
    "df.drop(df[(df['ap_lo'] > df['ap_lo'].quantile(0.975)) | (df['ap_lo'] < df['ap_lo'].quantile(0.025))].index,inplace=True) #remove outliers => remove diastolic blood pressure values that fall below 2.5% or above 97.5% of a given range\n",
    "len(df)"
   ]
  },
  {
   "cell_type": "markdown",
   "id": "c00e31ab",
   "metadata": {},
   "source": [
    "## Correlation analysis"
   ]
  },
  {
   "cell_type": "code",
   "execution_count": 13,
   "id": "c7a2dd1c",
   "metadata": {},
   "outputs": [
    {
     "data": {
      "text/html": [
       "<div>\n",
       "<style scoped>\n",
       "    .dataframe tbody tr th:only-of-type {\n",
       "        vertical-align: middle;\n",
       "    }\n",
       "\n",
       "    .dataframe tbody tr th {\n",
       "        vertical-align: top;\n",
       "    }\n",
       "\n",
       "    .dataframe thead th {\n",
       "        text-align: right;\n",
       "    }\n",
       "</style>\n",
       "<table border=\"1\" class=\"dataframe\">\n",
       "  <thead>\n",
       "    <tr style=\"text-align: right;\">\n",
       "      <th></th>\n",
       "      <th>active</th>\n",
       "      <th>age</th>\n",
       "      <th>alco</th>\n",
       "      <th>ap_hi</th>\n",
       "      <th>ap_lo</th>\n",
       "      <th>cholesterol</th>\n",
       "      <th>gender</th>\n",
       "      <th>gluc</th>\n",
       "      <th>height</th>\n",
       "      <th>smoke</th>\n",
       "      <th>weight</th>\n",
       "      <th>disease</th>\n",
       "      <th>bmi</th>\n",
       "    </tr>\n",
       "  </thead>\n",
       "  <tbody>\n",
       "    <tr>\n",
       "      <th>active</th>\n",
       "      <td>1.000000</td>\n",
       "      <td>-0.012204</td>\n",
       "      <td>0.025625</td>\n",
       "      <td>0.003032</td>\n",
       "      <td>0.000871</td>\n",
       "      <td>0.007849</td>\n",
       "      <td>0.007056</td>\n",
       "      <td>-0.007109</td>\n",
       "      <td>-0.005348</td>\n",
       "      <td>0.026653</td>\n",
       "      <td>-0.011876</td>\n",
       "      <td>-0.038545</td>\n",
       "      <td>-0.009380</td>\n",
       "    </tr>\n",
       "    <tr>\n",
       "      <th>age</th>\n",
       "      <td>-0.012204</td>\n",
       "      <td>1.000000</td>\n",
       "      <td>-0.028192</td>\n",
       "      <td>0.203735</td>\n",
       "      <td>0.146281</td>\n",
       "      <td>0.151778</td>\n",
       "      <td>-0.024787</td>\n",
       "      <td>0.096232</td>\n",
       "      <td>-0.082475</td>\n",
       "      <td>-0.047325</td>\n",
       "      <td>0.063309</td>\n",
       "      <td>0.237283</td>\n",
       "      <td>0.106042</td>\n",
       "    </tr>\n",
       "    <tr>\n",
       "      <th>alco</th>\n",
       "      <td>0.025625</td>\n",
       "      <td>-0.028192</td>\n",
       "      <td>1.000000</td>\n",
       "      <td>0.023612</td>\n",
       "      <td>0.026039</td>\n",
       "      <td>0.025573</td>\n",
       "      <td>0.167372</td>\n",
       "      <td>0.003657</td>\n",
       "      <td>0.087951</td>\n",
       "      <td>0.342300</td>\n",
       "      <td>0.057428</td>\n",
       "      <td>-0.014668</td>\n",
       "      <td>0.010585</td>\n",
       "    </tr>\n",
       "    <tr>\n",
       "      <th>ap_hi</th>\n",
       "      <td>0.003032</td>\n",
       "      <td>0.203735</td>\n",
       "      <td>0.023612</td>\n",
       "      <td>1.000000</td>\n",
       "      <td>0.695676</td>\n",
       "      <td>0.187134</td>\n",
       "      <td>0.044087</td>\n",
       "      <td>0.082742</td>\n",
       "      <td>-0.011072</td>\n",
       "      <td>0.020730</td>\n",
       "      <td>0.231192</td>\n",
       "      <td>0.428549</td>\n",
       "      <td>0.233253</td>\n",
       "    </tr>\n",
       "    <tr>\n",
       "      <th>ap_lo</th>\n",
       "      <td>0.000871</td>\n",
       "      <td>0.146281</td>\n",
       "      <td>0.026039</td>\n",
       "      <td>0.695676</td>\n",
       "      <td>1.000000</td>\n",
       "      <td>0.146811</td>\n",
       "      <td>0.048922</td>\n",
       "      <td>0.061274</td>\n",
       "      <td>0.007324</td>\n",
       "      <td>0.018296</td>\n",
       "      <td>0.210874</td>\n",
       "      <td>0.321561</td>\n",
       "      <td>0.203576</td>\n",
       "    </tr>\n",
       "    <tr>\n",
       "      <th>cholesterol</th>\n",
       "      <td>0.007849</td>\n",
       "      <td>0.151778</td>\n",
       "      <td>0.025573</td>\n",
       "      <td>0.187134</td>\n",
       "      <td>0.146811</td>\n",
       "      <td>1.000000</td>\n",
       "      <td>-0.042013</td>\n",
       "      <td>0.454086</td>\n",
       "      <td>-0.069343</td>\n",
       "      <td>0.004565</td>\n",
       "      <td>0.129362</td>\n",
       "      <td>0.216656</td>\n",
       "      <td>0.163915</td>\n",
       "    </tr>\n",
       "    <tr>\n",
       "      <th>gender</th>\n",
       "      <td>0.007056</td>\n",
       "      <td>-0.024787</td>\n",
       "      <td>0.167372</td>\n",
       "      <td>0.044087</td>\n",
       "      <td>0.048922</td>\n",
       "      <td>-0.042013</td>\n",
       "      <td>1.000000</td>\n",
       "      <td>-0.023871</td>\n",
       "      <td>0.501663</td>\n",
       "      <td>0.336773</td>\n",
       "      <td>0.128776</td>\n",
       "      <td>-0.004853</td>\n",
       "      <td>-0.138507</td>\n",
       "    </tr>\n",
       "    <tr>\n",
       "      <th>gluc</th>\n",
       "      <td>-0.007109</td>\n",
       "      <td>0.096232</td>\n",
       "      <td>0.003657</td>\n",
       "      <td>0.082742</td>\n",
       "      <td>0.061274</td>\n",
       "      <td>0.454086</td>\n",
       "      <td>-0.023871</td>\n",
       "      <td>1.000000</td>\n",
       "      <td>-0.030206</td>\n",
       "      <td>-0.009960</td>\n",
       "      <td>0.087498</td>\n",
       "      <td>0.085865</td>\n",
       "      <td>0.101693</td>\n",
       "    </tr>\n",
       "    <tr>\n",
       "      <th>height</th>\n",
       "      <td>-0.005348</td>\n",
       "      <td>-0.082475</td>\n",
       "      <td>0.087951</td>\n",
       "      <td>-0.011072</td>\n",
       "      <td>0.007324</td>\n",
       "      <td>-0.069343</td>\n",
       "      <td>0.501663</td>\n",
       "      <td>-0.030206</td>\n",
       "      <td>1.000000</td>\n",
       "      <td>0.184867</td>\n",
       "      <td>0.248311</td>\n",
       "      <td>-0.030790</td>\n",
       "      <td>-0.277555</td>\n",
       "    </tr>\n",
       "    <tr>\n",
       "      <th>smoke</th>\n",
       "      <td>0.026653</td>\n",
       "      <td>-0.047325</td>\n",
       "      <td>0.342300</td>\n",
       "      <td>0.020730</td>\n",
       "      <td>0.018296</td>\n",
       "      <td>0.004565</td>\n",
       "      <td>0.336773</td>\n",
       "      <td>-0.009960</td>\n",
       "      <td>0.184867</td>\n",
       "      <td>1.000000</td>\n",
       "      <td>0.055643</td>\n",
       "      <td>-0.023473</td>\n",
       "      <td>-0.042026</td>\n",
       "    </tr>\n",
       "    <tr>\n",
       "      <th>weight</th>\n",
       "      <td>-0.011876</td>\n",
       "      <td>0.063309</td>\n",
       "      <td>0.057428</td>\n",
       "      <td>0.231192</td>\n",
       "      <td>0.210874</td>\n",
       "      <td>0.129362</td>\n",
       "      <td>0.128776</td>\n",
       "      <td>0.087498</td>\n",
       "      <td>0.248311</td>\n",
       "      <td>0.055643</td>\n",
       "      <td>1.000000</td>\n",
       "      <td>0.158076</td>\n",
       "      <td>0.856355</td>\n",
       "    </tr>\n",
       "    <tr>\n",
       "      <th>disease</th>\n",
       "      <td>-0.038545</td>\n",
       "      <td>0.237283</td>\n",
       "      <td>-0.014668</td>\n",
       "      <td>0.428549</td>\n",
       "      <td>0.321561</td>\n",
       "      <td>0.216656</td>\n",
       "      <td>-0.004853</td>\n",
       "      <td>0.085865</td>\n",
       "      <td>-0.030790</td>\n",
       "      <td>-0.023473</td>\n",
       "      <td>0.158076</td>\n",
       "      <td>1.000000</td>\n",
       "      <td>0.171295</td>\n",
       "    </tr>\n",
       "    <tr>\n",
       "      <th>bmi</th>\n",
       "      <td>-0.009380</td>\n",
       "      <td>0.106042</td>\n",
       "      <td>0.010585</td>\n",
       "      <td>0.233253</td>\n",
       "      <td>0.203576</td>\n",
       "      <td>0.163915</td>\n",
       "      <td>-0.138507</td>\n",
       "      <td>0.101693</td>\n",
       "      <td>-0.277555</td>\n",
       "      <td>-0.042026</td>\n",
       "      <td>0.856355</td>\n",
       "      <td>0.171295</td>\n",
       "      <td>1.000000</td>\n",
       "    </tr>\n",
       "  </tbody>\n",
       "</table>\n",
       "</div>"
      ],
      "text/plain": [
       "               active       age      alco     ap_hi     ap_lo  cholesterol  \\\n",
       "active       1.000000 -0.012204  0.025625  0.003032  0.000871     0.007849   \n",
       "age         -0.012204  1.000000 -0.028192  0.203735  0.146281     0.151778   \n",
       "alco         0.025625 -0.028192  1.000000  0.023612  0.026039     0.025573   \n",
       "ap_hi        0.003032  0.203735  0.023612  1.000000  0.695676     0.187134   \n",
       "ap_lo        0.000871  0.146281  0.026039  0.695676  1.000000     0.146811   \n",
       "cholesterol  0.007849  0.151778  0.025573  0.187134  0.146811     1.000000   \n",
       "gender       0.007056 -0.024787  0.167372  0.044087  0.048922    -0.042013   \n",
       "gluc        -0.007109  0.096232  0.003657  0.082742  0.061274     0.454086   \n",
       "height      -0.005348 -0.082475  0.087951 -0.011072  0.007324    -0.069343   \n",
       "smoke        0.026653 -0.047325  0.342300  0.020730  0.018296     0.004565   \n",
       "weight      -0.011876  0.063309  0.057428  0.231192  0.210874     0.129362   \n",
       "disease     -0.038545  0.237283 -0.014668  0.428549  0.321561     0.216656   \n",
       "bmi         -0.009380  0.106042  0.010585  0.233253  0.203576     0.163915   \n",
       "\n",
       "               gender      gluc    height     smoke    weight   disease  \\\n",
       "active       0.007056 -0.007109 -0.005348  0.026653 -0.011876 -0.038545   \n",
       "age         -0.024787  0.096232 -0.082475 -0.047325  0.063309  0.237283   \n",
       "alco         0.167372  0.003657  0.087951  0.342300  0.057428 -0.014668   \n",
       "ap_hi        0.044087  0.082742 -0.011072  0.020730  0.231192  0.428549   \n",
       "ap_lo        0.048922  0.061274  0.007324  0.018296  0.210874  0.321561   \n",
       "cholesterol -0.042013  0.454086 -0.069343  0.004565  0.129362  0.216656   \n",
       "gender       1.000000 -0.023871  0.501663  0.336773  0.128776 -0.004853   \n",
       "gluc        -0.023871  1.000000 -0.030206 -0.009960  0.087498  0.085865   \n",
       "height       0.501663 -0.030206  1.000000  0.184867  0.248311 -0.030790   \n",
       "smoke        0.336773 -0.009960  0.184867  1.000000  0.055643 -0.023473   \n",
       "weight       0.128776  0.087498  0.248311  0.055643  1.000000  0.158076   \n",
       "disease     -0.004853  0.085865 -0.030790 -0.023473  0.158076  1.000000   \n",
       "bmi         -0.138507  0.101693 -0.277555 -0.042026  0.856355  0.171295   \n",
       "\n",
       "                  bmi  \n",
       "active      -0.009380  \n",
       "age          0.106042  \n",
       "alco         0.010585  \n",
       "ap_hi        0.233253  \n",
       "ap_lo        0.203576  \n",
       "cholesterol  0.163915  \n",
       "gender      -0.138507  \n",
       "gluc         0.101693  \n",
       "height      -0.277555  \n",
       "smoke       -0.042026  \n",
       "weight       0.856355  \n",
       "disease      0.171295  \n",
       "bmi          1.000000  "
      ]
     },
     "execution_count": 13,
     "metadata": {},
     "output_type": "execute_result"
    }
   ],
   "source": [
    "df.corr()"
   ]
  },
  {
   "cell_type": "code",
   "execution_count": 14,
   "id": "bfab94ec",
   "metadata": {},
   "outputs": [
    {
     "data": {
      "image/png": "[encoded data removed]",
      "text/plain": [
       "<Figure size 1200x800 with 2 Axes>"
      ]
     },
     "metadata": {},
     "output_type": "display_data"
    }
   ],
   "source": [
    "#Correlation Matrix\n",
    "\n",
    "correlation_matrix = df.corr()\n",
    "plt.figure(figsize=(12,8))\n",
    "sns.heatmap(correlation_matrix, annot=True, fmt=\".1f\", linewidth=.5, cmap='coolwarm')\n",
    "plt.title('Correlation Matrix')\n",
    "plt.show()"
   ]
  },
  {
   "cell_type": "markdown",
   "id": "0623dd4c",
   "metadata": {},
   "source": [
    "## Training Models"
   ]
  },
  {
   "cell_type": "code",
   "execution_count": 15,
   "id": "85062e64",
   "metadata": {},
   "outputs": [],
   "source": [
    "# Importing the function/module to randomly split the data\n",
    "\n",
    "from sklearn.model_selection import train_test_split"
   ]
  },
  {
   "cell_type": "code",
   "execution_count": 16,
   "id": "960e87da",
   "metadata": {},
   "outputs": [],
   "source": [
    "# Selecting the predictors and target\n",
    "\n",
    "X = df.drop('disease',axis = 1)  # taking all columns as input except Variety column\n",
    "Y = df['disease']                # taking only Variety column as the target"
   ]
  },
  {
   "cell_type": "code",
   "execution_count": 17,
   "id": "848e0fc9",
   "metadata": {},
   "outputs": [
    {
     "data": {
      "text/html": [
       "<div>\n",
       "<style scoped>\n",
       "    .dataframe tbody tr th:only-of-type {\n",
       "        vertical-align: middle;\n",
       "    }\n",
       "\n",
       "    .dataframe tbody tr th {\n",
       "        vertical-align: top;\n",
       "    }\n",
       "\n",
       "    .dataframe thead th {\n",
       "        text-align: right;\n",
       "    }\n",
       "</style>\n",
       "<table border=\"1\" class=\"dataframe\">\n",
       "  <thead>\n",
       "    <tr style=\"text-align: right;\">\n",
       "      <th></th>\n",
       "      <th>active</th>\n",
       "      <th>age</th>\n",
       "      <th>alco</th>\n",
       "      <th>ap_hi</th>\n",
       "      <th>ap_lo</th>\n",
       "      <th>cholesterol</th>\n",
       "      <th>gender</th>\n",
       "      <th>gluc</th>\n",
       "      <th>height</th>\n",
       "      <th>smoke</th>\n",
       "      <th>weight</th>\n",
       "      <th>bmi</th>\n",
       "    </tr>\n",
       "  </thead>\n",
       "  <tbody>\n",
       "    <tr>\n",
       "      <th>0</th>\n",
       "      <td>1</td>\n",
       "      <td>50</td>\n",
       "      <td>0</td>\n",
       "      <td>110</td>\n",
       "      <td>80</td>\n",
       "      <td>1</td>\n",
       "      <td>2</td>\n",
       "      <td>1</td>\n",
       "      <td>168</td>\n",
       "      <td>0</td>\n",
       "      <td>62</td>\n",
       "      <td>21</td>\n",
       "    </tr>\n",
       "    <tr>\n",
       "      <th>1</th>\n",
       "      <td>1</td>\n",
       "      <td>55</td>\n",
       "      <td>0</td>\n",
       "      <td>140</td>\n",
       "      <td>90</td>\n",
       "      <td>3</td>\n",
       "      <td>1</td>\n",
       "      <td>1</td>\n",
       "      <td>156</td>\n",
       "      <td>0</td>\n",
       "      <td>85</td>\n",
       "      <td>34</td>\n",
       "    </tr>\n",
       "    <tr>\n",
       "      <th>2</th>\n",
       "      <td>0</td>\n",
       "      <td>51</td>\n",
       "      <td>0</td>\n",
       "      <td>130</td>\n",
       "      <td>70</td>\n",
       "      <td>3</td>\n",
       "      <td>1</td>\n",
       "      <td>1</td>\n",
       "      <td>165</td>\n",
       "      <td>0</td>\n",
       "      <td>64</td>\n",
       "      <td>23</td>\n",
       "    </tr>\n",
       "    <tr>\n",
       "      <th>3</th>\n",
       "      <td>1</td>\n",
       "      <td>48</td>\n",
       "      <td>0</td>\n",
       "      <td>150</td>\n",
       "      <td>100</td>\n",
       "      <td>1</td>\n",
       "      <td>2</td>\n",
       "      <td>1</td>\n",
       "      <td>169</td>\n",
       "      <td>0</td>\n",
       "      <td>82</td>\n",
       "      <td>28</td>\n",
       "    </tr>\n",
       "    <tr>\n",
       "      <th>4</th>\n",
       "      <td>0</td>\n",
       "      <td>47</td>\n",
       "      <td>0</td>\n",
       "      <td>100</td>\n",
       "      <td>60</td>\n",
       "      <td>1</td>\n",
       "      <td>1</td>\n",
       "      <td>1</td>\n",
       "      <td>156</td>\n",
       "      <td>0</td>\n",
       "      <td>56</td>\n",
       "      <td>23</td>\n",
       "    </tr>\n",
       "  </tbody>\n",
       "</table>\n",
       "</div>"
      ],
      "text/plain": [
       "   active  age  alco  ap_hi  ap_lo  cholesterol  gender  gluc  height  smoke  \\\n",
       "0       1   50     0    110     80            1       2     1     168      0   \n",
       "1       1   55     0    140     90            3       1     1     156      0   \n",
       "2       0   51     0    130     70            3       1     1     165      0   \n",
       "3       1   48     0    150    100            1       2     1     169      0   \n",
       "4       0   47     0    100     60            1       1     1     156      0   \n",
       "\n",
       "   weight  bmi  \n",
       "0      62   21  \n",
       "1      85   34  \n",
       "2      64   23  \n",
       "3      82   28  \n",
       "4      56   23  "
      ]
     },
     "metadata": {},
     "output_type": "display_data"
    },
    {
     "data": {
      "text/plain": [
       "0    0\n",
       "1    1\n",
       "2    1\n",
       "3    1\n",
       "4    0\n",
       "Name: disease, dtype: int64"
      ]
     },
     "metadata": {},
     "output_type": "display_data"
    }
   ],
   "source": [
    "# Verifying the features and target variables\n",
    "\n",
    "display(X.head())\n",
    "display(Y.head())"
   ]
  },
  {
   "cell_type": "code",
   "execution_count": 18,
   "id": "ed3aa602",
   "metadata": {},
   "outputs": [
    {
     "name": "stdout",
     "output_type": "stream",
     "text": [
      "Train Shape (45108, 12)\n",
      "Test Shape (15036, 12)\n"
     ]
    }
   ],
   "source": [
    "# Split the data into train and test\n",
    "# the attribute test_size=0.25 splits the data into 75% and 25% ratio. train=75% and test=25%\n",
    "# We have set the reproduceability using random_state\n",
    " \n",
    "X_train, X_test, Y_train, Y_test = train_test_split(X,Y,test_size=0.25,random_state=42)\n",
    "\n",
    "# in this our main data is split into train and test\n",
    "\n",
    "print(\"Train Shape\",X_train.shape)\n",
    "print(\"Test Shape\",X_test.shape)"
   ]
  },
  {
   "cell_type": "markdown",
   "id": "816d14ac",
   "metadata": {},
   "source": [
    "Verify Train Test split with Target Value"
   ]
  },
  {
   "cell_type": "code",
   "execution_count": 19,
   "id": "1ef22466",
   "metadata": {},
   "outputs": [
    {
     "name": "stdout",
     "output_type": "stream",
     "text": [
      "disease\n",
      "0    23081\n",
      "1    22027\n",
      "Name: count, dtype: int64\n"
     ]
    },
    {
     "data": {
      "text/plain": [
       "disease\n",
       "0    51.168307\n",
       "1    48.831693\n",
       "Name: count, dtype: float64"
      ]
     },
     "execution_count": 19,
     "metadata": {},
     "output_type": "execute_result"
    }
   ],
   "source": [
    "# Printing the total counts of unique values in the Y_train\n",
    "\n",
    "print(Y_train.value_counts())\n",
    "\n",
    "# Let's divide these values by 45108 (total rows in training data) to get percentage.\n",
    "(Y_train.value_counts()/45108)*100        # Multiply with 100 to get percentage\n"
   ]
  },
  {
   "cell_type": "code",
   "execution_count": 20,
   "id": "2da40966",
   "metadata": {},
   "outputs": [
    {
     "name": "stdout",
     "output_type": "stream",
     "text": [
      "disease\n",
      "0    7698\n",
      "1    7338\n",
      "Name: count, dtype: int64\n"
     ]
    },
    {
     "data": {
      "text/plain": [
       "disease\n",
       "0    51.197127\n",
       "1    48.802873\n",
       "Name: count, dtype: float64"
      ]
     },
     "execution_count": 20,
     "metadata": {},
     "output_type": "execute_result"
    }
   ],
   "source": [
    "# Printing the total counts of unique values in the Y_test\n",
    "\n",
    "print(Y_test.value_counts())\n",
    "\n",
    "# Let's divide these values by 15036 (total rows in testing data) to get percentage.\n",
    "(Y_test.value_counts() / 15036) * 100   # Multiply with 100 to get percentage\n"
   ]
  },
  {
   "cell_type": "code",
   "execution_count": 21,
   "id": "97c2759f",
   "metadata": {},
   "outputs": [
    {
     "data": {
      "text/plain": [
       "disease\n",
       "0    30779\n",
       "1    29365\n",
       "Name: count, dtype: int64"
      ]
     },
     "metadata": {},
     "output_type": "display_data"
    }
   ],
   "source": [
    "display(df['disease'].value_counts())"
   ]
  },
  {
   "cell_type": "markdown",
   "id": "cadd7164",
   "metadata": {},
   "source": [
    "the data split is acceptable, Our data splits are now ready to go throught the models."
   ]
  },
  {
   "cell_type": "markdown",
   "id": "7eca2680",
   "metadata": {},
   "source": [
    "## Data Modeling"
   ]
  },
  {
   "cell_type": "code",
   "execution_count": 22,
   "id": "e14ec067",
   "metadata": {},
   "outputs": [],
   "source": [
    "# Importing the algorithms\n",
    "\n",
    "from sklearn.linear_model import LogisticRegression\n",
    "from sklearn.neighbors import KNeighborsClassifier\n",
    "from sklearn.svm import SVC\n",
    "from sklearn.tree import DecisionTreeClassifier\n",
    "from sklearn.preprocessing import StandardScaler\n",
    "\n",
    "from sklearn.metrics import confusion_matrix, ConfusionMatrixDisplay\n",
    "from sklearn.metrics import classification_report\n"
   ]
  },
  {
   "cell_type": "markdown",
   "id": "35f062cd",
   "metadata": {},
   "source": [
    "## Logistic Regression Classification"
   ]
  },
  {
   "cell_type": "code",
   "execution_count": 23,
   "id": "42764a35",
   "metadata": {},
   "outputs": [
    {
     "name": "stdout",
     "output_type": "stream",
     "text": [
      "The accuracy of logistic regression is: 72.18675179569034 %\n"
     ]
    }
   ],
   "source": [
    "# instantiating and training the model on training dataset, \n",
    "# and making predictions for the testing data\n",
    "\n",
    "log = LogisticRegression()\n",
    "\n",
    "log.fit(X_train,Y_train)\n",
    "\n",
    "logPrediction = log.predict(X_test)\n",
    "\n",
    "logAccuracy = metrics.accuracy_score(logPrediction,Y_test)\n",
    "\n",
    "print(\"The accuracy of logistic regression is:\", logAccuracy*100, \"%\")"
   ]
  },
  {
   "cell_type": "markdown",
   "id": "306322f2",
   "metadata": {},
   "source": [
    "## k-Nearest Neighbor (k-NN) Classification"
   ]
  },
  {
   "cell_type": "code",
   "execution_count": 24,
   "id": "0de99df8",
   "metadata": {},
   "outputs": [
    {
     "name": "stdout",
     "output_type": "stream",
     "text": [
      "The accuracy of KNN model is: 66.27427507315775 %\n"
     ]
    }
   ],
   "source": [
    "# we will take 3 neighbors to find a majority. Default is 5.\n",
    "\n",
    "knn=KNeighborsClassifier(n_neighbors=3)\n",
    "\n",
    "knn.fit(X_train,Y_train)\n",
    "\n",
    "KNNprediction=knn.predict(X_test)\n",
    "\n",
    "knnAccuracy = metrics.accuracy_score(KNNprediction,Y_test)\n",
    "\n",
    "print(\"The accuracy of KNN model is:\", knnAccuracy*100, \"%\")"
   ]
  },
  {
   "cell_type": "markdown",
   "id": "6b9a7047",
   "metadata": {},
   "source": [
    "## Support Vector Machine"
   ]
  },
  {
   "cell_type": "code",
   "execution_count": 25,
   "id": "333117f8",
   "metadata": {},
   "outputs": [
    {
     "name": "stdout",
     "output_type": "stream",
     "text": [
      "The accuracy of SVM model is: 71.38201649374834 %\n"
     ]
    }
   ],
   "source": [
    "svc=SVC()   # SVC stands for Support Vector Classifier\n",
    "\n",
    "svc.fit(X_train,Y_train) \n",
    "\n",
    "svcPrediction=svc.predict(X_test)\n",
    "\n",
    "svcAccuracy = metrics.accuracy_score(svcPrediction,Y_test)\n",
    "\n",
    "print(\"The accuracy of SVM model is:\", svcAccuracy*100, \"%\")"
   ]
  },
  {
   "cell_type": "markdown",
   "id": "72756082",
   "metadata": {},
   "source": [
    "## Decision Tree Classifier"
   ]
  },
  {
   "cell_type": "code",
   "execution_count": 26,
   "id": "33ed4b14",
   "metadata": {},
   "outputs": [
    {
     "name": "stdout",
     "output_type": "stream",
     "text": [
      "The accuracy of Decision Tree model is: 63.0220803405161 %\n"
     ]
    }
   ],
   "source": [
    "tree= DecisionTreeClassifier()\n",
    "\n",
    "tree.fit(X_train,Y_train)\n",
    "\n",
    "treePrediction=tree.predict(X_test)\n",
    "\n",
    "treeAccuracy = metrics.accuracy_score(treePrediction,Y_test)\n",
    "\n",
    "print(\"The accuracy of Decision Tree model is:\", treeAccuracy*100, \"%\")"
   ]
  },
  {
   "cell_type": "markdown",
   "id": "a5cc13a8",
   "metadata": {},
   "source": [
    "## Model Performance Evaluation"
   ]
  },
  {
   "cell_type": "code",
   "execution_count": 27,
   "id": "c033c3cb",
   "metadata": {},
   "outputs": [
    {
     "name": "stdout",
     "output_type": "stream",
     "text": [
      "The accuracy of logistic regression is: 72.18675179569034 %\n",
      "The accuracy of KNN model is: 66.27427507315775 %\n",
      "The accuracy of SVM model is: 71.38201649374834 %\n",
      "The accuracy of Decision Tree model is: 63.0220803405161 %\n"
     ]
    }
   ],
   "source": [
    "print(\"The accuracy of logistic regression is:\", logAccuracy*100, \"%\")\n",
    "print(\"The accuracy of KNN model is:\", knnAccuracy*100, \"%\")\n",
    "print(\"The accuracy of SVM model is:\", svcAccuracy*100, \"%\")\n",
    "print(\"The accuracy of Decision Tree model is:\", treeAccuracy*100, \"%\")"
   ]
  },
  {
   "cell_type": "markdown",
   "id": "4ad05bac",
   "metadata": {},
   "source": [
    "Based on accuracy of the model, it looks like Logistic Regression and SVM model can be used.\n",
    "\n",
    "Accuracy score is a reliable performance metric if the data is balanced. In our case too, the data is balanced so we can conclude that for the type of analysis we have done on the type of data, logistic regression, KNN classifier or SVM classifier - all three are suitable model."
   ]
  },
  {
   "cell_type": "markdown",
   "id": "57d24675",
   "metadata": {},
   "source": [
    "## Confusion Matrix and Classification Report"
   ]
  },
  {
   "cell_type": "code",
   "execution_count": 34,
   "id": "11dad2ff",
   "metadata": {},
   "outputs": [
    {
     "data": {
      "text/plain": [
       "<sklearn.metrics._plot.confusion_matrix.ConfusionMatrixDisplay at 0x10f02380a10>"
      ]
     },
     "execution_count": 34,
     "metadata": {},
     "output_type": "execute_result"
    },
    {
     "data": {
      "image/png": "[encoded data removed]",
      "text/plain": [
       "<Figure size 300x300 with 2 Axes>"
      ]
     },
     "metadata": {},
     "output_type": "display_data"
    },
    {
     "data": {
      "image/png": "[encoded data removed]",
      "text/plain": [
       "<Figure size 300x300 with 2 Axes>"
      ]
     },
     "metadata": {},
     "output_type": "display_data"
    },
    {
     "data": {
      "image/png": "[encoded data removed]",
      "text/plain": [
       "<Figure size 300x300 with 2 Axes>"
      ]
     },
     "metadata": {},
     "output_type": "display_data"
    },
    {
     "data": {
      "image/png": "[encoded data removed]",
      "text/plain": [
       "<Figure size 300x300 with 2 Axes>"
      ]
     },
     "metadata": {},
     "output_type": "display_data"
    }
   ],
   "source": [
    "#Confusion Matrix\n",
    "\n",
    "logistic_regression_confusion_matrix = confusion_matrix(Y_test, logPrediction)\n",
    "cmd_LR=ConfusionMatrixDisplay(logistic_regression_confusion_matrix, display_labels = [0,1])\n",
    "fig, ax = plt.subplots(figsize=(3,3))\n",
    "plt.title('Confusion Matrix \\n (Logistic Regression)')\n",
    "cmd_LR.plot(ax=ax)\n",
    "\n",
    "k_nearest_neigbour_confusion_matrix = confusion_matrix(Y_test, KNNprediction)\n",
    "cmd_KNN=ConfusionMatrixDisplay(k_nearest_neigbour_confusion_matrix, display_labels = [0,1])\n",
    "fig, ax = plt.subplots(figsize=(3,3))\n",
    "plt.title('Confusion Matrix \\n (K Nearest Neigbour)')\n",
    "cmd_KNN.plot(ax=ax)\n",
    "\n",
    "svc_confusion_matrix = confusion_matrix(Y_test, svcPrediction)\n",
    "cmd_svc=ConfusionMatrixDisplay(svc_confusion_matrix, display_labels = [0,1])\n",
    "fig, ax = plt.subplots(figsize=(3,3))\n",
    "plt.title('Confusion Matrix \\n (svc)')\n",
    "cmd_svc.plot(ax=ax)\n",
    "\n",
    "tree_confusion_matrix = confusion_matrix(Y_test, treePrediction)\n",
    "cmd_tree=ConfusionMatrixDisplay(tree_confusion_matrix, display_labels = [0,1])\n",
    "fig, ax = plt.subplots(figsize=(3,3))\n",
    "plt.title('Confusion Matrix \\n (Tree)')\n",
    "cmd_tree.plot(ax=ax)\n"
   ]
  },
  {
   "cell_type": "code",
   "execution_count": 29,
   "id": "c304c309",
   "metadata": {},
   "outputs": [
    {
     "name": "stdout",
     "output_type": "stream",
     "text": [
      "\n",
      "\n",
      "Logistic Regression Classification Report\n",
      "              precision    recall  f1-score   support\n",
      "\n",
      "           0       0.70      0.79      0.74      7698\n",
      "           1       0.74      0.65      0.70      7338\n",
      "\n",
      "    accuracy                           0.72     15036\n",
      "   macro avg       0.72      0.72      0.72     15036\n",
      "weighted avg       0.72      0.72      0.72     15036\n",
      "\n",
      "\n",
      "\n",
      "KNN Classification Report\n",
      "              precision    recall  f1-score   support\n",
      "\n",
      "           0       0.67      0.69      0.68      7698\n",
      "           1       0.66      0.64      0.65      7338\n",
      "\n",
      "    accuracy                           0.66     15036\n",
      "   macro avg       0.66      0.66      0.66     15036\n",
      "weighted avg       0.66      0.66      0.66     15036\n",
      "\n",
      "\n",
      "\n",
      "SVC Classification Report\n",
      "              precision    recall  f1-score   support\n",
      "\n",
      "           0       0.68      0.84      0.75      7698\n",
      "           1       0.78      0.58      0.66      7338\n",
      "\n",
      "    accuracy                           0.71     15036\n",
      "   macro avg       0.73      0.71      0.71     15036\n",
      "weighted avg       0.73      0.71      0.71     15036\n",
      "\n",
      "\n",
      "\n",
      "Decision Tree Classification Report\n",
      "              precision    recall  f1-score   support\n",
      "\n",
      "           0       0.64      0.65      0.64      7698\n",
      "           1       0.62      0.61      0.62      7338\n",
      "\n",
      "    accuracy                           0.63     15036\n",
      "   macro avg       0.63      0.63      0.63     15036\n",
      "weighted avg       0.63      0.63      0.63     15036\n",
      "\n"
     ]
    }
   ],
   "source": [
    "# Display Classification Report\n",
    "print(\"\\n\")\n",
    "print(\"Logistic Regression Classification Report\")\n",
    "LR_classification_report = classification_report(Y_test,logPrediction)\n",
    "print(LR_classification_report)\n",
    "\n",
    "print(\"\\n\")\n",
    "print(\"KNN Classification Report\")\n",
    "KNN_classification_report = classification_report(Y_test,KNNprediction)\n",
    "print(KNN_classification_report)\n",
    "\n",
    "print(\"\\n\")\n",
    "print(\"SVC Classification Report\")\n",
    "SVC_classification_report = classification_report(Y_test,svcPrediction)\n",
    "print(SVC_classification_report)\n",
    "\n",
    "print(\"\\n\")\n",
    "print(\"Decision Tree Classification Report\")\n",
    "tree_classification_report = classification_report(Y_test,treePrediction)\n",
    "print(tree_classification_report)"
   ]
  },
  {
   "cell_type": "markdown",
   "id": "9119f623",
   "metadata": {},
   "source": [
    "The model performance shows accuracy scores ranging from approximately 62% to 72% for all four models, with the highest score achieved by Logistic Regression. However, since our goal is to capture all positive cases in this scenario, we should prioritize the Recall score when selecting a model for prediction. According to the Recall score, Logistic Regression performs the best with an accuracy of 65%."
   ]
  },
  {
   "cell_type": "code",
   "execution_count": null,
   "id": "5dca1023",
   "metadata": {
    "scrolled": true
   },
   "outputs": [],
   "source": []
  }
 ],
 "metadata": {
  "kernelspec": {
   "display_name": "Python 3 (ipykernel)",
   "language": "python",
   "name": "python3"
  },
  "language_info": {
   "codemirror_mode": {
    "name": "ipython",
    "version": 3
   },
   "file_extension": ".py",
   "mimetype": "text/x-python",
   "name": "python",
   "nbconvert_exporter": "python",
   "pygments_lexer": "ipython3",
   "version": "3.11.5"
  }
 },
 "nbformat": 4,
 "nbformat_minor": 5
}
